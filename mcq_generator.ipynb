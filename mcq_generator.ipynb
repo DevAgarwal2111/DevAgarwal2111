{
  "nbformat": 4,
  "nbformat_minor": 0,
  "metadata": {
    "colab": {
      "provenance": [],
      "gpuType": "T4",
      "include_colab_link": true
    },
    "kernelspec": {
      "name": "python3",
      "display_name": "Python 3"
    },
    "language_info": {
      "name": "python"
    },
    "accelerator": "GPU"
  },
  "cells": [
    {
      "cell_type": "markdown",
      "metadata": {
        "id": "view-in-github",
        "colab_type": "text"
      },
      "source": [
        "<a href=\"https://colab.research.google.com/github/DevAgarwal2111/DevAgarwal2111/blob/main/mcq_generator.ipynb\" target=\"_parent\"><img src=\"https://colab.research.google.com/assets/colab-badge.svg\" alt=\"Open In Colab\"/></a>"
      ]
    },
    {
      "cell_type": "code",
      "source": [
        "pip install langchain_google_genai"
      ],
      "metadata": {
        "id": "P2j6TkfgK9PQ"
      },
      "execution_count": null,
      "outputs": []
    },
    {
      "cell_type": "code",
      "source": [
        "import os\n",
        "key= os.environ[\"GOOGLE_API_KEY\"] = \"google_api_key\""
      ],
      "metadata": {
        "id": "WIOdfiUhMn3y"
      },
      "execution_count": null,
      "outputs": []
    },
    {
      "cell_type": "code",
      "source": [
        "from langchain_google_genai import ChatGoogleGenerativeAI"
      ],
      "metadata": {
        "id": "PolG-2RDB4Jv"
      },
      "execution_count": null,
      "outputs": []
    },
    {
      "cell_type": "code",
      "source": [
        "!pip install PyPDF2\n"
      ],
      "metadata": {
        "id": "Z2xXgt1NmPf7"
      },
      "execution_count": null,
      "outputs": []
    },
    {
      "cell_type": "code",
      "source": [
        "from langchain.prompts import PromptTemplate\n",
        "from langchain.chains import LLMChain, SequentialChain\n",
        "import PyPDF2"
      ],
      "metadata": {
        "id": "eEg3Y-BJCReX"
      },
      "execution_count": null,
      "outputs": []
    },
    {
      "cell_type": "code",
      "metadata": {
        "id": "2da40cb1"
      },
      "source": [
        "llm = ChatGoogleGenerativeAI(model=\"gemini-2.5-flash\",temperature=0.3)"
      ],
      "execution_count": null,
      "outputs": []
    },
    {
      "cell_type": "code",
      "source": [
        "RESPONSE_JSON = \"\"\"\n",
        "\"1\": {\n",
        "\"mcq\": \"multiple choice question\",\n",
        "\"options\": {\n",
        "\"a\": \"choice here\",\n",
        "\"b\": \"choice here\",\n",
        "\"c\": \"choice here\",\n",
        "\"d\": \"choice here\",\n",
        "},\n",
        "\n",
        "\"correct\":\"correct answer\",\n",
        "},\n",
        "\n",
        "\"2\": {\n",
        "\"mcq\": \"multiple choice question\",\n",
        "\"options\": {\n",
        "\"a\": \"choice here\",\n",
        "\"b\": \"choice here\",\n",
        "\"c\": \"choice here\",\n",
        "\"d\": \"choice here\",\n",
        "},\n",
        "\n",
        "\"correct\": \"correct answer\",\n",
        "},\n",
        "\"3\": {\n",
        "\"mcq\": \"multiple choice question\",\n",
        "\"options\": {\n",
        "\"a\": \"choice here\",\n",
        "\"b\": \"choice here\",\n",
        "\"c\": \"choice here\",\n",
        "\"d\": \"choice here\",\n",
        "},\n",
        "\n",
        "\"correct\": \"correct answer\",\n",
        "},\n",
        "\"\"\""
      ],
      "metadata": {
        "id": "03e1iu2ccTA-"
      },
      "execution_count": null,
      "outputs": []
    },
    {
      "cell_type": "code",
      "source": [
        "TEMPLATE=\"\"\"\n",
        "Text: {text}\n",
        "You are an expert MCQ maker. Given the above text, it is your job to \\\n",
        "create a quiz of {number} multiple choice questions for students in {tone} tone and {difficulty} difficulty level 'Easy', 'Medium' , or 'Hard'.\n",
        "Make sure the questions are not repeated and check all the questions to be conforming the text as well\n",
        "Make sure to format your response like RESPONSE_JSON below and use it as a guide. \\\n",
        "Ensure to make {number} MCQs\n",
        "### RESPONSE_JSON\n",
        "{response_json}\n",
        "\"\"\""
      ],
      "metadata": {
        "id": "RpyjxiC-VYQJ"
      },
      "execution_count": null,
      "outputs": []
    },
    {
      "cell_type": "code",
      "source": [
        "quiz_generation_prompt=PromptTemplate(\n",
        "    input_variables=[\"text\",\"number\",\"tone\",\"difficulty\",\"response_json\"],\n",
        "    template=TEMPLATE\n",
        ")"
      ],
      "metadata": {
        "id": "GkmvwT8tci1p"
      },
      "execution_count": null,
      "outputs": []
    },
    {
      "cell_type": "code",
      "source": [
        "quiz_chain=LLMChain(llm=llm,prompt=quiz_generation_prompt,output_key=\"quiz\",verbose=True)"
      ],
      "metadata": {
        "id": "wzKujHaIXZmC"
      },
      "execution_count": null,
      "outputs": []
    },
    {
      "cell_type": "code",
      "source": [
        "quiz_evaluation_prompt=PromptTemplate(input_variables=[\"quiz\"], template=\"Given the following quiz in JSON format:\\n{quiz}\\n\\nReview and evaluate the quality of this quiz based on the provided text. Provide feedback on the clarity, accuracy, and relevance of the questions and answers.\")"
      ],
      "metadata": {
        "id": "ofJtWR_kduYu"
      },
      "execution_count": null,
      "outputs": []
    },
    {
      "cell_type": "code",
      "source": [
        "review_chain=LLMChain(llm=llm,prompt=quiz_evaluation_prompt,output_key=\"review\",verbose=True)"
      ],
      "metadata": {
        "id": "X_zGIjw9eDen"
      },
      "execution_count": null,
      "outputs": []
    },
    {
      "cell_type": "code",
      "source": [
        "generate_evaluate_chain=SequentialChain(chains=[quiz_chain,review_chain],input_variables=[\"text\",\"number\",\"tone\",\"difficulty\",\"response_json\"],output_variables=[\"quiz\",\"review\"],verbose=True)"
      ],
      "metadata": {
        "id": "YAyn959Ee1IN"
      },
      "execution_count": null,
      "outputs": []
    },
    {
      "cell_type": "code",
      "source": [
        "import json"
      ],
      "metadata": {
        "id": "TDhF5UtLNFPg"
      },
      "execution_count": null,
      "outputs": []
    },
    {
      "cell_type": "code",
      "source": [
        "def mcq_generator(file, number, DIFFICULTY):\n",
        "  with open(file, 'rb') as f:\n",
        "    TEXT = f.read()\n",
        "\n",
        "  response = generate_evaluate_chain({\n",
        "      \"text\": TEXT,\n",
        "      \"number\": int(number),\n",
        "      \"tone\": \"simple\",\n",
        "      \"difficulty\": DIFFICULTY,\n",
        "      \"response_json\": RESPONSE_JSON\n",
        "  })\n",
        "\n",
        "  quiz = response.get(\"quiz\", None)\n",
        "  print(\"DEBUG quiz raw value:\", repr(quiz))\n",
        "\n",
        "  if not quiz:\n",
        "    return \"No quiz generated. The model returned nothing.\"\n",
        "\n",
        "  if isinstance(quiz, str):\n",
        "    try:\n",
        "      data = json.loads(quiz)\n",
        "    except json.JSONDecodeError:\n",
        "      return f\"Quiz:\\n{quiz}\"\n",
        "    else:\n",
        "      data = quiz\n",
        "\n",
        "  md_output = \"\"\n",
        "\n",
        "  for qid, qdata in data.items():\n",
        "      md_output += f\"### Q{qid}. {qdata['mcq']}\\n\\n\"\n",
        "      for opt_key, opt_val in qdata[\"options\"].items():\n",
        "          md_output += f\"- **{opt_key.upper()}**: {opt_val}\\n\"\n",
        "      md_output += f\"\\n **Correct Answer**: {qdata['correct'].upper()}\\n\\n---\\n\"\n",
        "  return md_output\n"
      ],
      "metadata": {
        "id": "82fW7opGDv9p"
      },
      "execution_count": null,
      "outputs": []
    },
    {
      "cell_type": "code",
      "source": [
        "import gradio as gr"
      ],
      "metadata": {
        "id": "3FG5MIx586aT"
      },
      "execution_count": null,
      "outputs": []
    },
    {
      "cell_type": "code",
      "source": [
        "iface = gr.Interface(\n",
        "    fn=mcq_generator,\n",
        "    inputs=[\n",
        "        gr.File(label = \"Upload\"),\n",
        "        gr.Number(label = \"Number of Questions\"),\n",
        "        gr.Dropdown(choices=[\"Easy\", \"Medium\", \"Hard\"], label = \"Difficulty\"),\n",
        "    ],\n",
        "    outputs = [\n",
        "        gr.Markdown(label = \"Quiz\")\n",
        "    ],\n",
        "    title=\"MCQ\",\n",
        "    description = \"Upload your text file, select number of questions, and difficulty level to generate a quiz.\"\n",
        ")\n",
        "iface.launch()"
      ],
      "metadata": {
        "id": "OIxJfJuDbWcw"
      },
      "execution_count": null,
      "outputs": []
    }
  ]
}
